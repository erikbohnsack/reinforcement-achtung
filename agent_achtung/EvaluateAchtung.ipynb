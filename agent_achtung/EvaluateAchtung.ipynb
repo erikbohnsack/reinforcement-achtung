{
 "cells": [
  {
   "cell_type": "code",
   "execution_count": 43,
   "metadata": {},
   "outputs": [],
   "source": [
    "import pickle\n",
    "import os\n",
    "import time\n",
    "import matplotlib.pyplot as plt\n",
    "import numpy as np\n",
    "import pandas as pd"
   ]
  },
  {
   "cell_type": "code",
   "execution_count": 44,
   "metadata": {},
   "outputs": [],
   "source": [
    "path ='Sharks/20181023-192413'\n",
    "fileReward = path + '/EnjoyReward.pkl'\n",
    "fileQvalues= path + '/EnjoyQvalues.pkl'\n"
   ]
  },
  {
   "cell_type": "code",
   "execution_count": 45,
   "metadata": {},
   "outputs": [],
   "source": [
    "with open(fileReward, 'rb') as f:\n",
    "    MeanRewards = pickle.load(f)\n",
    "with open(fileQvalues, 'rb') as f:\n",
    "    AllQvalues = pickle.load(f)"
   ]
  },
  {
   "cell_type": "code",
   "execution_count": 57,
   "metadata": {},
   "outputs": [
    {
     "data": {
      "image/png": "[encoded data removed]",
      "text/plain": [
       "<Figure size 432x288 with 1 Axes>"
      ]
     },
     "metadata": {
      "needs_background": "light"
     },
     "output_type": "display_data"
    }
   ],
   "source": [
    "index = 0\n",
    "graphpath = path + '/graphs/'\n",
    "if not os.path.exists(graphpath):\n",
    "    os.mkdir(graphpath)\n",
    "\n",
    "for qvalues in AllQvalues:\n",
    "    filepath = graphpath + 'qvalues' + str(index).zfill(5) + '.png'\n",
    "    action_0 = []\n",
    "    action_1 = []\n",
    "    action_2 = []\n",
    "    for qvalue in qvalues:\n",
    "        action_0.append(qvalue[0][0])\n",
    "        action_1.append(qvalue[0][1])\n",
    "        action_2.append(qvalue[0][2])\n",
    "    plt.clf()\n",
    "    plt.plot(action_0, color='blue', linewidth=2, label=\"action_0\")\n",
    "    plt.plot(action_1, color='red', linewidth=2, label=\"action_1\")\n",
    "    plt.plot(action_2, color='green', linewidth=2, label=\"action_2\")\n",
    "    plt.legend()\n",
    "    plt.savefig(filepath, bbox_inches='tight')\n",
    "    plt.close()\n",
    "    index += 1\n",
    "\n",
    "filepath = graphpath + 'meanReward.png'    \n",
    "plt.clf()\n",
    "plt.plot(MeanRewards, color='blue', linewidth=4, label=\"Reward\")\n",
    "plt.legend()\n",
    "plt.savefig(filepath, bbox_inches='tight')    \n",
    "plt.close()"
   ]
  },
  {
   "cell_type": "code",
   "execution_count": 60,
   "metadata": {},
   "outputs": [
    {
     "data": {
      "text/plain": [
       "[1, 2, 3, 1, 2]"
      ]
     },
     "execution_count": 60,
     "metadata": {},
     "output_type": "execute_result"
    }
   ],
   "source": [
    "a = [1, 2, 3]\n",
    "b = [1, 2]\n",
    "a + b"
   ]
  },
  {
   "cell_type": "code",
   "execution_count": null,
   "metadata": {},
   "outputs": [],
   "source": []
  }
 ],
 "metadata": {
  "kernelspec": {
   "display_name": "Python 3",
   "language": "python",
   "name": "python3"
  },
  "language_info": {
   "codemirror_mode": {
    "name": "ipython",
    "version": 3
   },
   "file_extension": ".py",
   "mimetype": "text/x-python",
   "name": "python",
   "nbconvert_exporter": "python",
   "pygments_lexer": "ipython3",
   "version": "3.6.6"
  }
 },
 "nbformat": 4,
 "nbformat_minor": 2
}
